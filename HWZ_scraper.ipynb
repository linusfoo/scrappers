{
 "cells": [
  {
   "cell_type": "code",
   "execution_count": 3,
   "id": "5979c337",
   "metadata": {},
   "outputs": [],
   "source": [
    "import requests\n",
    "from bs4 import BeautifulSoup\n",
    "import re\n",
    "import pandas as pd\n",
    "import random\n",
    "import numpy as np"
   ]
  },
  {
   "cell_type": "markdown",
   "id": "a7aa42eb",
   "metadata": {},
   "source": [
    "# Data Scrapping (Post Text)"
   ]
  },
  {
   "cell_type": "code",
   "execution_count": null,
   "id": "68592002",
   "metadata": {},
   "outputs": [],
   "source": [
    "#Choose the main site URL\n",
    "site_url = 'https://forums.hardwarezone.com.sg'\n",
    "\n",
    "def getPosts(thread_url):\n",
    "    #print(thread_url)\n",
    "    lastThreadPage = False\n",
    "    thread_cols = ['thread_url', 'post_text'] \n",
    "    thread_df = pd.DataFrame(columns=thread_cols)\n",
    "    thread_page_url = thread_url\n",
    "    r3 = requests.get(thread_page_url)\n",
    "    thread_page = r3.text\n",
    "    thread_page_soup = BeautifulSoup(thread_page, 'html.parser')\n",
    "    currentPage = 1\n",
    "    try: #get last page\n",
    "        lastPage = int(thread_page_soup.find(string=re.compile(\"1 of\"))[8:])\n",
    "    except Exception as e:\n",
    "        lastPage = 1\n",
    "        print(lastPage)\n",
    "    \n",
    "    while(currentPage <= lastPage):\n",
    "        print(f'{thread_page_url} initial')\n",
    "        r3 = requests.get(thread_page_url)\n",
    "        thread_page = r3.text\n",
    "        thread_page_soup = BeautifulSoup(thread_page, 'html.parser')\n",
    "        thread_page_posts = thread_page_soup.find('div', {'class': 'block-body js-replyNewMessageContainer'})\n",
    "\n",
    "        currentPage += 1 #next page after current has been scrapped\n",
    "        print(f'{currentPage} curr {lastPage} last')\n",
    "        if (currentPage <= lastPage):\n",
    "            thread_page_url = thread_url + 'page-' + str(currentPage)\n",
    "            \n",
    "        try: \n",
    "            count = 0\n",
    "            for post in thread_page_posts.find_all('div', {'class': 'message-inner'}):\n",
    "                post_text = \"\"\n",
    "                try:\n",
    "                    post_text = post.find('div', {'class': 'bbWrapper'}).get_text(' ', strip=True)\n",
    "                except AttributeError as e: \n",
    "                    pass\n",
    "                row = pd.DataFrame([[thread_url, post_text]], columns=thread_cols)\n",
    "                print(row)\n",
    "                if(len(thread_df)==0):\n",
    "                    thread_df = row\n",
    "                else:\n",
    "                    thread_df = thread_df.append(row, ignore_index=True) \n",
    "                    \n",
    "        except Exception as e:\n",
    "            row = pd.DataFrame([[thread_url, \"\"]], columns=thread_cols) #posts missing, thread may have been deleted\n",
    "            if(len(thread_df)==0):\n",
    "                thread_df = row\n",
    "            else:\n",
    "                thread_df = thread_df.append(row, ignore_index=False)\n",
    "                \n",
    "    thread_df['post_text'] = thread_df['post_text'].map(lambda x: x.encode('unicode-escape').decode('utf-8'))\n",
    "\n",
    "    return thread_df"
   ]
  },
  {
   "cell_type": "code",
   "execution_count": null,
   "id": "b395951c",
   "metadata": {
    "scrolled": true
   },
   "outputs": [],
   "source": [
    "df = pd.read_csv('urls.csv')\n",
    "df = df[df['URL'].str.startswith('https://forums.hardwarezone')]"
   ]
  },
  {
   "cell_type": "code",
   "execution_count": null,
   "id": "a408b9d3",
   "metadata": {},
   "outputs": [],
   "source": [
    "for index, row in df.iterrows():\n",
    "    getPosts(row['URL']).to_csv(\"raw_unclean.csv\", mode = 'a', encoding='utf-8')"
   ]
  },
  {
   "cell_type": "markdown",
   "id": "a20a848c",
   "metadata": {},
   "source": [
    "# Data Cleaning"
   ]
  },
  {
   "cell_type": "code",
   "execution_count": 4,
   "id": "f3436b55",
   "metadata": {},
   "outputs": [],
   "source": [
    "df = pd.read_csv('raw_unclean.csv')"
   ]
  },
  {
   "cell_type": "code",
   "execution_count": 5,
   "id": "5e1e1a06",
   "metadata": {},
   "outputs": [
    {
     "data": {
      "text/html": [
       "<div>\n",
       "<style scoped>\n",
       "    .dataframe tbody tr th:only-of-type {\n",
       "        vertical-align: middle;\n",
       "    }\n",
       "\n",
       "    .dataframe tbody tr th {\n",
       "        vertical-align: top;\n",
       "    }\n",
       "\n",
       "    .dataframe thead th {\n",
       "        text-align: right;\n",
       "    }\n",
       "</style>\n",
       "<table border=\"1\" class=\"dataframe\">\n",
       "  <thead>\n",
       "    <tr style=\"text-align: right;\">\n",
       "      <th></th>\n",
       "      <th>Unnamed: 0</th>\n",
       "      <th>thread_url</th>\n",
       "      <th>post_text</th>\n",
       "    </tr>\n",
       "  </thead>\n",
       "  <tbody>\n",
       "    <tr>\n",
       "      <th>0</th>\n",
       "      <td>0.0</td>\n",
       "      <td>https://forums.hardwarezone.com.sg/threads/jus...</td>\n",
       "      <td>on grounds such as treason etc... better not u...</td>\n",
       "    </tr>\n",
       "    <tr>\n",
       "      <th>1</th>\n",
       "      <td>1.0</td>\n",
       "      <td>https://forums.hardwarezone.com.sg/threads/jus...</td>\n",
       "      <td>Where got so easy. Still gotch pinky at the to...</td>\n",
       "    </tr>\n",
       "    <tr>\n",
       "      <th>2</th>\n",
       "      <td>2.0</td>\n",
       "      <td>https://forums.hardwarezone.com.sg/threads/jus...</td>\n",
       "      <td>prusswan.net said: on grounds such as treason ...</td>\n",
       "    </tr>\n",
       "    <tr>\n",
       "      <th>3</th>\n",
       "      <td>3.0</td>\n",
       "      <td>https://forums.hardwarezone.com.sg/threads/jus...</td>\n",
       "      <td>prusswan.net said: on grounds such as treason ...</td>\n",
       "    </tr>\n",
       "    <tr>\n",
       "      <th>4</th>\n",
       "      <td>4.0</td>\n",
       "      <td>https://forums.hardwarezone.com.sg/threads/jus...</td>\n",
       "      <td>Preparing for open mob now. ...</td>\n",
       "    </tr>\n",
       "  </tbody>\n",
       "</table>\n",
       "</div>"
      ],
      "text/plain": [
       "   Unnamed: 0                                         thread_url  \\\n",
       "0         0.0  https://forums.hardwarezone.com.sg/threads/jus...   \n",
       "1         1.0  https://forums.hardwarezone.com.sg/threads/jus...   \n",
       "2         2.0  https://forums.hardwarezone.com.sg/threads/jus...   \n",
       "3         3.0  https://forums.hardwarezone.com.sg/threads/jus...   \n",
       "4         4.0  https://forums.hardwarezone.com.sg/threads/jus...   \n",
       "\n",
       "                                           post_text  \n",
       "0  on grounds such as treason etc... better not u...  \n",
       "1  Where got so easy. Still gotch pinky at the to...  \n",
       "2  prusswan.net said: on grounds such as treason ...  \n",
       "3  prusswan.net said: on grounds such as treason ...  \n",
       "4                    Preparing for open mob now. ...  "
      ]
     },
     "execution_count": 5,
     "metadata": {},
     "output_type": "execute_result"
    }
   ],
   "source": [
    "df.head(5)"
   ]
  },
  {
   "cell_type": "code",
   "execution_count": 6,
   "id": "c15f08b3",
   "metadata": {
    "scrolled": true
   },
   "outputs": [
    {
     "data": {
      "text/plain": [
       "(959, 3)"
      ]
     },
     "execution_count": 6,
     "metadata": {},
     "output_type": "execute_result"
    }
   ],
   "source": [
    "df.shape"
   ]
  },
  {
   "cell_type": "code",
   "execution_count": 7,
   "id": "2b40e933",
   "metadata": {},
   "outputs": [],
   "source": [
    "df = df[df['post_text'].notna()]\n",
    "#print(df[df['post_text'].isna()])"
   ]
  },
  {
   "cell_type": "code",
   "execution_count": 8,
   "id": "8ad8b2ab",
   "metadata": {},
   "outputs": [
    {
     "data": {
      "text/plain": [
       "Unnamed: 0    float64\n",
       "thread_url     object\n",
       "post_text      string\n",
       "dtype: object"
      ]
     },
     "execution_count": 8,
     "metadata": {},
     "output_type": "execute_result"
    }
   ],
   "source": [
    "df['post_text'] = df['post_text'].astype(\"string\")\n",
    "df.dtypes"
   ]
  },
  {
   "cell_type": "code",
   "execution_count": 9,
   "id": "f59c9698",
   "metadata": {
    "scrolled": true
   },
   "outputs": [],
   "source": [
    "df['subindex'] = df['post_text'].apply(lambda x: x.find(\"Click to expand\"))\n",
    "df['subindex'].mask(df['subindex'] == -1 ,-19, inplace=True)\n",
    "df = df.assign(dropquotes=df.apply(lambda x: x['post_text'][x['subindex']+19:], axis=1))\n",
    "df = df.drop(columns=['subindex'])"
   ]
  },
  {
   "cell_type": "code",
   "execution_count": 10,
   "id": "428c307e",
   "metadata": {
    "scrolled": true
   },
   "outputs": [],
   "source": [
    "df['cleanascii'] = df['dropquotes'].replace(to_replace=['post_text',r'\\\\u[0-9A-Fa-f]{4}', r'\\{\\\\n.*\\\\t\\}', r'\\\\t|\\\\n|\\\\r', '\\t|\\n|\\r'], value=[\"veryuniquestring\",\"\",\"veryuniquestring\",\"\",\"\"], regex=True)\n",
    "\n"
   ]
  },
  {
   "cell_type": "code",
   "execution_count": 11,
   "id": "d8039215",
   "metadata": {
    "scrolled": true
   },
   "outputs": [
    {
     "data": {
      "text/plain": [
       "(947, 5)"
      ]
     },
     "execution_count": 11,
     "metadata": {},
     "output_type": "execute_result"
    }
   ],
   "source": [
    "df.shape\n",
    "#print(df[df['cleanascii'].isna()])"
   ]
  },
  {
   "cell_type": "code",
   "execution_count": 12,
   "id": "414f49c1",
   "metadata": {},
   "outputs": [
    {
     "data": {
      "text/plain": [
       "(907, 5)"
      ]
     },
     "execution_count": 12,
     "metadata": {},
     "output_type": "execute_result"
    }
   ],
   "source": [
    "df = df[df[\"cleanascii\"].str.contains(\"veryuniquestring\")==False]\n",
    "df.shape"
   ]
  },
  {
   "cell_type": "code",
   "execution_count": 13,
   "id": "505d6738",
   "metadata": {},
   "outputs": [],
   "source": [
    "df = df[df['cleanascii'].str.len()>=3]\n",
    "#print(df[df['cleanascii'].str.len()<=3])"
   ]
  },
  {
   "cell_type": "code",
   "execution_count": 14,
   "id": "13b20d58",
   "metadata": {},
   "outputs": [],
   "source": [
    "df = df.drop(columns=['dropquotes'])\n",
    "df = df.drop(columns=['post_text'])"
   ]
  },
  {
   "cell_type": "code",
   "execution_count": 15,
   "id": "cb89aa82",
   "metadata": {},
   "outputs": [
    {
     "data": {
      "text/html": [
       "<div>\n",
       "<style scoped>\n",
       "    .dataframe tbody tr th:only-of-type {\n",
       "        vertical-align: middle;\n",
       "    }\n",
       "\n",
       "    .dataframe tbody tr th {\n",
       "        vertical-align: top;\n",
       "    }\n",
       "\n",
       "    .dataframe thead th {\n",
       "        text-align: right;\n",
       "    }\n",
       "</style>\n",
       "<table border=\"1\" class=\"dataframe\">\n",
       "  <thead>\n",
       "    <tr style=\"text-align: right;\">\n",
       "      <th></th>\n",
       "      <th>Unnamed: 0</th>\n",
       "      <th>thread_url</th>\n",
       "      <th>cleanascii</th>\n",
       "    </tr>\n",
       "  </thead>\n",
       "  <tbody>\n",
       "    <tr>\n",
       "      <th>0</th>\n",
       "      <td>0.0</td>\n",
       "      <td>https://forums.hardwarezone.com.sg/threads/jus...</td>\n",
       "      <td>on grounds such as treason etc... better not u...</td>\n",
       "    </tr>\n",
       "    <tr>\n",
       "      <th>1</th>\n",
       "      <td>1.0</td>\n",
       "      <td>https://forums.hardwarezone.com.sg/threads/jus...</td>\n",
       "      <td>Where got so easy. Still gotch pinky at the to...</td>\n",
       "    </tr>\n",
       "    <tr>\n",
       "      <th>2</th>\n",
       "      <td>2.0</td>\n",
       "      <td>https://forums.hardwarezone.com.sg/threads/jus...</td>\n",
       "      <td>Dude. You know what is military chain of comma...</td>\n",
       "    </tr>\n",
       "    <tr>\n",
       "      <th>3</th>\n",
       "      <td>3.0</td>\n",
       "      <td>https://forums.hardwarezone.com.sg/threads/jus...</td>\n",
       "      <td>quote first</td>\n",
       "    </tr>\n",
       "    <tr>\n",
       "      <th>4</th>\n",
       "      <td>4.0</td>\n",
       "      <td>https://forums.hardwarezone.com.sg/threads/jus...</td>\n",
       "      <td>Preparing for open mob now. ...</td>\n",
       "    </tr>\n",
       "    <tr>\n",
       "      <th>5</th>\n",
       "      <td>5.0</td>\n",
       "      <td>https://forums.hardwarezone.com.sg/threads/jus...</td>\n",
       "      <td>imh pls off wifi</td>\n",
       "    </tr>\n",
       "    <tr>\n",
       "      <th>6</th>\n",
       "      <td>6.0</td>\n",
       "      <td>https://forums.hardwarezone.com.sg/threads/jus...</td>\n",
       "      <td>TS must be never serve army before</td>\n",
       "    </tr>\n",
       "    <tr>\n",
       "      <th>7</th>\n",
       "      <td>7.0</td>\n",
       "      <td>https://forums.hardwarezone.com.sg/threads/jus...</td>\n",
       "      <td>must wait till the holee emperor go first</td>\n",
       "    </tr>\n",
       "    <tr>\n",
       "      <th>8</th>\n",
       "      <td>8.0</td>\n",
       "      <td>https://forums.hardwarezone.com.sg/threads/jus...</td>\n",
       "      <td>myanmar junta taught us that ex-general still ...</td>\n",
       "    </tr>\n",
       "    <tr>\n",
       "      <th>9</th>\n",
       "      <td>9.0</td>\n",
       "      <td>https://forums.hardwarezone.com.sg/threads/jus...</td>\n",
       "      <td>TS want to tio POFMA and lim kopi ah</td>\n",
       "    </tr>\n",
       "  </tbody>\n",
       "</table>\n",
       "</div>"
      ],
      "text/plain": [
       "   Unnamed: 0                                         thread_url  \\\n",
       "0         0.0  https://forums.hardwarezone.com.sg/threads/jus...   \n",
       "1         1.0  https://forums.hardwarezone.com.sg/threads/jus...   \n",
       "2         2.0  https://forums.hardwarezone.com.sg/threads/jus...   \n",
       "3         3.0  https://forums.hardwarezone.com.sg/threads/jus...   \n",
       "4         4.0  https://forums.hardwarezone.com.sg/threads/jus...   \n",
       "5         5.0  https://forums.hardwarezone.com.sg/threads/jus...   \n",
       "6         6.0  https://forums.hardwarezone.com.sg/threads/jus...   \n",
       "7         7.0  https://forums.hardwarezone.com.sg/threads/jus...   \n",
       "8         8.0  https://forums.hardwarezone.com.sg/threads/jus...   \n",
       "9         9.0  https://forums.hardwarezone.com.sg/threads/jus...   \n",
       "\n",
       "                                          cleanascii  \n",
       "0  on grounds such as treason etc... better not u...  \n",
       "1  Where got so easy. Still gotch pinky at the to...  \n",
       "2  Dude. You know what is military chain of comma...  \n",
       "3                                        quote first  \n",
       "4                    Preparing for open mob now. ...  \n",
       "5                                   imh pls off wifi  \n",
       "6                 TS must be never serve army before  \n",
       "7          must wait till the holee emperor go first  \n",
       "8  myanmar junta taught us that ex-general still ...  \n",
       "9               TS want to tio POFMA and lim kopi ah  "
      ]
     },
     "execution_count": 15,
     "metadata": {},
     "output_type": "execute_result"
    }
   ],
   "source": [
    "df.head(10)"
   ]
  },
  {
   "cell_type": "code",
   "execution_count": 16,
   "id": "1dce0828",
   "metadata": {},
   "outputs": [],
   "source": [
    "df.to_csv(\"cleanfakecomments.csv\")"
   ]
  },
  {
   "cell_type": "code",
   "execution_count": null,
   "id": "86fbf3ed",
   "metadata": {},
   "outputs": [],
   "source": []
  },
  {
   "cell_type": "code",
   "execution_count": null,
   "id": "ecb9ee29",
   "metadata": {},
   "outputs": [],
   "source": []
  }
 ],
 "metadata": {
  "kernelspec": {
   "display_name": "Python 3 (ipykernel)",
   "language": "python",
   "name": "python3"
  },
  "language_info": {
   "codemirror_mode": {
    "name": "ipython",
    "version": 3
   },
   "file_extension": ".py",
   "mimetype": "text/x-python",
   "name": "python",
   "nbconvert_exporter": "python",
   "pygments_lexer": "ipython3",
   "version": "3.9.12"
  }
 },
 "nbformat": 4,
 "nbformat_minor": 5
}
